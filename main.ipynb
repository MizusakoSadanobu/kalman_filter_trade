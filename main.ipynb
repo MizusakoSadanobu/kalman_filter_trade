{
 "cells": [
  {
   "cell_type": "code",
   "execution_count": 42,
   "metadata": {},
   "outputs": [
    {
     "data": {
      "text/plain": [
       "['config.ini']"
      ]
     },
     "execution_count": 42,
     "metadata": {},
     "output_type": "execute_result"
    }
   ],
   "source": [
    "from configparser import ConfigParser\n",
    "import pandas as pd\n",
    "import numpy as np\n",
    "import matplotlib.pyplot as plt\n",
    "from pykalman import KalmanFilter\n",
    "config = ConfigParser()\n",
    "config.read(\"config.ini\", 'UTF-8')"
   ]
  },
  {
   "cell_type": "code",
   "execution_count": 43,
   "metadata": {},
   "outputs": [],
   "source": [
    "BTC_PATH = config.get(\"default\", \"PATH\")"
   ]
  },
  {
   "cell_type": "code",
   "execution_count": 47,
   "metadata": {},
   "outputs": [
    {
     "name": "stderr",
     "output_type": "stream",
     "text": [
      "C:\\Users\\sadan\\AppData\\Local\\Temp\\ipykernel_22344\\3952222.py:7: FutureWarning: DataFrame.fillna with 'method' is deprecated and will raise in a future version. Use obj.ffill() or obj.bfill() instead.\n",
      "  df.fillna(method='ffill', inplace=True)\n"
     ]
    }
   ],
   "source": [
    "df = pd.read_pickle(BTC_PATH)\n",
    "\n",
    "# 対数収益率に変換\n",
    "df['log_return'] = np.log(df['cl']).diff()\n",
    "\n",
    "# 欠損値処理\n",
    "df.fillna(method='ffill', inplace=True)\n",
    "\n",
    "# 学習データとテストデータに分ける\n",
    "train_size = int(len(df) * 0.8)\n",
    "train_data, test_data = df[:train_size], df[train_size:]"
   ]
  },
  {
   "cell_type": "code",
   "execution_count": 58,
   "metadata": {},
   "outputs": [
    {
     "name": "stderr",
     "output_type": "stream",
     "text": [
      "C:\\Users\\sadan\\AppData\\Local\\Temp\\ipykernel_22344\\4146941238.py:2: FutureWarning: DataFrame.fillna with 'method' is deprecated and will raise in a future version. Use obj.ffill() or obj.bfill() instead.\n",
      "  df.fillna(method='ffill', inplace=True)\n"
     ]
    }
   ],
   "source": [
    "# 欠損値処理 (必要に応じて)\n",
    "df.fillna(method='ffill', inplace=True)\n",
    "\n",
    "# 学習データとテストデータの分割\n",
    "train_size = int(len(df) * 0.8)\n",
    "train_data, test_data = df[:train_size], df[train_size:]\n",
    "\n",
    "# カルマンフィルタの設定\n",
    "kf = KalmanFilter(\n",
    "    transition_matrices=[[1]],  # 状態遷移行列\n",
    "    observation_matrices=[[1]],  # 観測行列\n",
    "    initial_state_mean=0,\n",
    "    initial_state_covariance=1.0,\n",
    "    observation_covariance=1.0,\n",
    "    transition_covariance=.01\n",
    ")\n",
    "\n",
    "# 学習データを用いたフィルタリング\n",
    "state_means, state_covariances = kf.filter(train_data['log_return'].values)\n",
    "# 最後の予測状態の平均を取得\n",
    "last_predicted_state_mean = state_means[-1]\n",
    "\n",
    "# filter_update関数に渡す\n",
    "predicted_state_means, _ = kf.filter_update(\n",
    "    filtered_state_mean=last_predicted_state_mean,\n",
    "    filtered_state_covariance=state_covariances[-1],\n",
    "    observation=test_data['log_return'].values\n",
    ")\n",
    "\n",
    "\n",
    "# # テストデータを用いた予測\n",
    "# predicted_state_means, _ = kf.filter_update(\n",
    "#     filtered_state_mean=state_means[-1],\n",
    "#     filtered_state_covariance=state_covariances[-1],\n",
    "#     observation=test_data['log_return'].values\n",
    "# )\n",
    "\n",
    "# # 予測値から実際の価格に戻す\n",
    "# predicted_price = np.exp(np.cumsum(predicted_state_means)) * df['cl'].iloc[train_size-1]\n",
    "\n",
    "# # 結果の可視化\n",
    "# plt.figure(figsize=(12, 6))\n",
    "# plt.plot(test_data.index, test_data['cl'], label='Actual')\n",
    "# plt.plot(test_data.index, predicted_price, label='Predicted')\n",
    "# plt.legend()\n",
    "# plt.title('Bitcoin Price Prediction using Kalman Filter')\n",
    "# plt.xlabel('Timestamp')\n",
    "# plt.ylabel('Price')\n",
    "# plt.show()"
   ]
  }
 ],
 "metadata": {
  "kernelspec": {
   "display_name": "venv",
   "language": "python",
   "name": "python3"
  },
  "language_info": {
   "codemirror_mode": {
    "name": "ipython",
    "version": 3
   },
   "file_extension": ".py",
   "mimetype": "text/x-python",
   "name": "python",
   "nbconvert_exporter": "python",
   "pygments_lexer": "ipython3",
   "version": "3.10.5"
  }
 },
 "nbformat": 4,
 "nbformat_minor": 2
}
