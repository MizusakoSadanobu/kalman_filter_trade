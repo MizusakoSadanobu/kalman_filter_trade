{
 "cells": [
  {
   "cell_type": "code",
   "execution_count": 1,
   "metadata": {},
   "outputs": [],
   "source": [
    "from configparser import ConfigParser\n",
    "import pandas as pd\n",
    "import numpy as np\n",
    "import matplotlib.pyplot as plt\n",
    "from pykalman import KalmanFilter\n",
    "import kalman\n",
    "\n",
    "config = ConfigParser()\n",
    "config.read(\"config.ini\", 'UTF-8')\n",
    "BTC_PATH = config.get(\"default\", \"PATH\")"
   ]
  },
  {
   "cell_type": "code",
   "execution_count": 15,
   "metadata": {},
   "outputs": [],
   "source": [
    "def data_prep():\n",
    "    df = pd.read_pickle(BTC_PATH)\n",
    "\n",
    "    # 対数収益率に変換\n",
    "    df['log_price'] = np.log(df['cl'])\n",
    "\n",
    "    # 欠損値処理\n",
    "    df.ffill(inplace=True)\n",
    "    df.bfill(inplace=True)\n",
    "    return df\n",
    "\n",
    "df_all = data_prep()"
   ]
  },
  {
   "cell_type": "code",
   "execution_count": 16,
   "metadata": {},
   "outputs": [],
   "source": [
    "su = 0.001\n",
    "sw = 0.001"
   ]
  },
  {
   "cell_type": "code",
   "execution_count": 23,
   "metadata": {},
   "outputs": [],
   "source": [
    "batch = 20000\n",
    "for i in range(len(df_all)//batch):\n",
    "    df = df_all.iloc[i*batch:(i+1)*batch].copy()\n",
    "    # モデル初期化\n",
    "    kf = KalmanFilter(transition_matrices=[[1, 1], [0, 1]],\n",
    "                    observation_matrices=[[1, 0]],\n",
    "                    initial_state_mean=[0, 0],\n",
    "                    initial_state_covariance=[[1, 0], [0, 1]],\n",
    "                    observation_covariance=su,\n",
    "                    transition_covariance=[[0, 0], [0, sw]])\n",
    "\n",
    "    # 予測\n",
    "    df = kalman.pred_confidence_interval(kf, df)\n",
    "\n",
    "    # トレード損益シミュレーション\n",
    "    df = kalman.calc_return(df)\n",
    "\n",
    "    # 可視化\n",
    "    df[[\"long_ret\",\"short_ret\", \"both_ret\"]].cumsum().plot()\n",
    "    df[[\"both_ret\"]].cumsum().plot()\n",
    "    plt.show()"
   ]
  },
  {
   "cell_type": "code",
   "execution_count": null,
   "metadata": {},
   "outputs": [],
   "source": []
  }
 ],
 "metadata": {
  "kernelspec": {
   "display_name": "venv",
   "language": "python",
   "name": "python3"
  },
  "language_info": {
   "codemirror_mode": {
    "name": "ipython",
    "version": 3
   },
   "file_extension": ".py",
   "mimetype": "text/x-python",
   "name": "python",
   "nbconvert_exporter": "python",
   "pygments_lexer": "ipython3",
   "version": "3.10.5"
  }
 },
 "nbformat": 4,
 "nbformat_minor": 2
}
